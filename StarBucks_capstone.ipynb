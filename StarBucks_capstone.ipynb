{
 "cells": [
  {
   "cell_type": "markdown",
   "id": "honey-proposal",
   "metadata": {},
   "source": [
    "## Goal  \n",
    "in this notebook i have a number of simulated data from starbucks and i will try to predict weither a customer will complete an offer or not.  \n",
    "P.S: complete means either they use the offer like a discount or buy 1 get 1, or by simply viewing it like an information offer."
   ]
  },
  {
   "cell_type": "code",
   "execution_count": 1,
   "id": "considerable-discount",
   "metadata": {},
   "outputs": [],
   "source": [
    "import pandas as pd\n",
    "import numpy as np\n",
    "import matplotlib.pyplot as plt\n",
    "import seaborn as sns"
   ]
  },
  {
   "cell_type": "code",
   "execution_count": 2,
   "id": "endless-immune",
   "metadata": {},
   "outputs": [],
   "source": [
    "#load data\n",
    "portfolio= pd.read_csv('portfolio.csv')\n",
    "profile= pd.read_csv('profile.csv')\n",
    "transcript= pd.read_csv('transcript.csv')"
   ]
  },
  {
   "cell_type": "markdown",
   "id": "third-shuttle",
   "metadata": {},
   "source": [
    "## Cheacking for NaNs"
   ]
  },
  {
   "cell_type": "code",
   "execution_count": 3,
   "id": "measured-replica",
   "metadata": {},
   "outputs": [
    {
     "data": {
      "text/plain": [
       "Unnamed: 0    0\n",
       "reward        0\n",
       "channels      0\n",
       "difficulty    0\n",
       "duration      0\n",
       "offer_type    0\n",
       "id            0\n",
       "dtype: int64"
      ]
     },
     "execution_count": 3,
     "metadata": {},
     "output_type": "execute_result"
    }
   ],
   "source": [
    "portfolio.isnull().sum()"
   ]
  },
  {
   "cell_type": "code",
   "execution_count": 4,
   "id": "conceptual-clause",
   "metadata": {},
   "outputs": [
    {
     "data": {
      "text/plain": [
       "Unnamed: 0             0\n",
       "gender              2175\n",
       "age                    0\n",
       "id                     0\n",
       "became_member_on       0\n",
       "income              2175\n",
       "dtype: int64"
      ]
     },
     "execution_count": 4,
     "metadata": {},
     "output_type": "execute_result"
    }
   ],
   "source": [
    "profile.isnull().sum()"
   ]
  },
  {
   "cell_type": "code",
   "execution_count": 5,
   "id": "organized-better",
   "metadata": {},
   "outputs": [
    {
     "data": {
      "text/plain": [
       "Unnamed: 0    0\n",
       "person        0\n",
       "event         0\n",
       "value         0\n",
       "time          0\n",
       "dtype: int64"
      ]
     },
     "execution_count": 5,
     "metadata": {},
     "output_type": "execute_result"
    }
   ],
   "source": [
    "transcript.isnull().sum()"
   ]
  },
  {
   "cell_type": "markdown",
   "id": "dietary-condition",
   "metadata": {},
   "source": [
    "## Dealing with NaNs"
   ]
  },
  {
   "cell_type": "code",
   "execution_count": 6,
   "id": "fifteen-appearance",
   "metadata": {},
   "outputs": [],
   "source": [
    "#in gender column group NaNs with other\n",
    "profile['gender'].fillna(\"O\", inplace=True)"
   ]
  },
  {
   "cell_type": "code",
   "execution_count": 7,
   "id": "essential-librarian",
   "metadata": {},
   "outputs": [
    {
     "data": {
      "text/plain": [
       "O    2175\n",
       "Name: gender, dtype: int64"
      ]
     },
     "execution_count": 7,
     "metadata": {},
     "output_type": "execute_result"
    }
   ],
   "source": [
    "#from document 118 == null. impute with the average for each group in gender\n",
    "#find wich groups has null (118) in thier age\n",
    "profile[profile['age']==118]['gender'].value_counts()"
   ]
  },
  {
   "cell_type": "code",
   "execution_count": 8,
   "id": "amazing-organic",
   "metadata": {},
   "outputs": [],
   "source": [
    "#find average age for 'other' group\n",
    "average_age=np.round(profile.groupby('gender').mean().age.loc['O'])"
   ]
  },
  {
   "cell_type": "code",
   "execution_count": 9,
   "id": "convertible-seminar",
   "metadata": {},
   "outputs": [],
   "source": [
    "#since all missing ages from the other group, use the average for the group\n",
    "profile['age']= profile['age'].apply(lambda x : average_age if x == 118 else x)"
   ]
  },
  {
   "cell_type": "code",
   "execution_count": 10,
   "id": "difficult-authorization",
   "metadata": {},
   "outputs": [
    {
     "data": {
      "text/plain": [
       "gender\n",
       "O    0\n",
       "Name: income, dtype: int64"
      ]
     },
     "execution_count": 10,
     "metadata": {},
     "output_type": "execute_result"
    }
   ],
   "source": [
    "#find wich groups has null in thier income\n",
    "profile[profile['income'].isnull()].groupby('gender').count()['income']"
   ]
  },
  {
   "cell_type": "code",
   "execution_count": 11,
   "id": "naval-pickup",
   "metadata": {},
   "outputs": [],
   "source": [
    "#average income for 'other'\n",
    "average_income= np.round(profile.groupby('gender').mean().income.loc['O'])"
   ]
  },
  {
   "cell_type": "code",
   "execution_count": 12,
   "id": "cubic-truck",
   "metadata": {},
   "outputs": [],
   "source": [
    "#imput nan with average\n",
    "profile['income']= profile['income'].apply(lambda x : average_income if np.isnan(x) else x)"
   ]
  },
  {
   "cell_type": "code",
   "execution_count": 13,
   "id": "practical-mechanism",
   "metadata": {},
   "outputs": [],
   "source": [
    "#drop unnamed:0 column from all dataframes\n",
    "profile.drop('Unnamed: 0', axis=1, inplace=True)\n",
    "transcript.drop('Unnamed: 0', axis=1, inplace=True)\n",
    "portfolio.drop('Unnamed: 0', axis=1, inplace=True)"
   ]
  },
  {
   "cell_type": "markdown",
   "id": "continental-significance",
   "metadata": {},
   "source": [
    "## Data Analysis & Cleaning"
   ]
  },
  {
   "cell_type": "code",
   "execution_count": 14,
   "id": "coupled-granny",
   "metadata": {},
   "outputs": [
    {
     "name": "stderr",
     "output_type": "stream",
     "text": [
      "C:\\Users\\Me\\Anaconda3\\lib\\site-packages\\seaborn\\_decorators.py:43: FutureWarning: Pass the following variable as a keyword arg: x. From version 0.12, the only valid positional argument will be `data`, and passing other arguments without an explicit keyword will result in an error or misinterpretation.\n",
      "  FutureWarning\n"
     ]
    },
    {
     "data": {
      "text/plain": [
       "<AxesSubplot:xlabel='gender', ylabel='count'>"
      ]
     },
     "execution_count": 14,
     "metadata": {},
     "output_type": "execute_result"
    },
    {
     "data": {
      "image/png": "[encoded data removed]",
      "text/plain": [
       "<Figure size 432x288 with 1 Axes>"
      ]
     },
     "metadata": {
      "needs_background": "light"
     },
     "output_type": "display_data"
    }
   ],
   "source": [
    "#analyse profile file first\n",
    "#see gender count\n",
    "sns.countplot(profile['gender'])"
   ]
  },
  {
   "cell_type": "markdown",
   "id": "regulated-hopkins",
   "metadata": {},
   "source": [
    "looks like males are more than female customers. lets see which one of them has more income"
   ]
  },
  {
   "cell_type": "code",
   "execution_count": 15,
   "id": "contrary-embassy",
   "metadata": {},
   "outputs": [
    {
     "data": {
      "text/plain": [
       "Text(0.5, 1.0, 'Income per gender')"
      ]
     },
     "execution_count": 15,
     "metadata": {},
     "output_type": "execute_result"
    },
    {
     "data": {
      "image/png": "[encoded data removed]",
      "text/plain": [
       "<Figure size 404.625x360 with 1 Axes>"
      ]
     },
     "metadata": {
      "needs_background": "light"
     },
     "output_type": "display_data"
    }
   ],
   "source": [
    "sns.displot(profile, x='income', hue='gender', bins=30)\n",
    "plt.title('Income per gender')"
   ]
  },
  {
   "cell_type": "markdown",
   "id": "literary-infrastructure",
   "metadata": {},
   "source": [
    "remember that all the missing income were from the 'other' group, because I made every person with no gender as 'other'"
   ]
  },
  {
   "cell_type": "code",
   "execution_count": 16,
   "id": "activated-orbit",
   "metadata": {},
   "outputs": [
    {
     "data": {
      "text/plain": [
       "Text(0, 0.5, 'income')"
      ]
     },
     "execution_count": 16,
     "metadata": {},
     "output_type": "execute_result"
    },
    {
     "data": {
      "image/png": "[encoded data removed]",
      "text/plain": [
       "<Figure size 432x288 with 1 Axes>"
      ]
     },
     "metadata": {
      "needs_background": "light"
     },
     "output_type": "display_data"
    }
   ],
   "source": [
    "profile.groupby('gender').sum()['income'].plot(kind='bar')\n",
    "plt.title('Total income per gender')\n",
    "plt.ylabel('income')"
   ]
  },
  {
   "cell_type": "markdown",
   "id": "monetary-shoulder",
   "metadata": {},
   "source": [
    "males total income is higher even though the number of females in the higher income (78k and above) are higher than males."
   ]
  },
  {
   "cell_type": "code",
   "execution_count": 17,
   "id": "dynamic-council",
   "metadata": {},
   "outputs": [],
   "source": [
    "#extract only the year from 'became_member_on' and create column 'year'\n",
    "profile['year']= profile['became_member_on'].apply(lambda x : str( x )[:4])"
   ]
  },
  {
   "cell_type": "code",
   "execution_count": 18,
   "id": "coupled-front",
   "metadata": {},
   "outputs": [
    {
     "data": {
      "text/plain": [
       "Text(0.5, 1.0, 'loyalty program regestration per year')"
      ]
     },
     "execution_count": 18,
     "metadata": {},
     "output_type": "execute_result"
    },
    {
     "data": {
      "image/png": "[encoded data removed]",
      "text/plain": [
       "<Figure size 432x288 with 1 Axes>"
      ]
     },
     "metadata": {
      "needs_background": "light"
     },
     "output_type": "display_data"
    }
   ],
   "source": [
    "#see membership regstration throug the years\n",
    "profile['year'].value_counts().sort_index().plot()\n",
    "plt.xlabel('year')\n",
    "plt.ylabel('new members')\n",
    "plt.title('loyalty program regestration per year')"
   ]
  },
  {
   "cell_type": "markdown",
   "id": "extra-invite",
   "metadata": {},
   "source": [
    "2017 was the highest year then it went down the next year."
   ]
  },
  {
   "cell_type": "code",
   "execution_count": 19,
   "id": "convertible-lightning",
   "metadata": {},
   "outputs": [],
   "source": [
    "#analys transcript file\n",
    "\n",
    "#transcript['person'] == profile['id']\n",
    "#change column name from person to id, to merge them\n",
    "transcript.rename(columns={'person':'id'}, inplace=True)\n"
   ]
  },
  {
   "cell_type": "code",
   "execution_count": 20,
   "id": "considerable-reminder",
   "metadata": {},
   "outputs": [],
   "source": [
    "#merge profile and transcript on 'id' column\n",
    "df= profile.merge(transcript, on='id', how='outer')"
   ]
  },
  {
   "cell_type": "code",
   "execution_count": 21,
   "id": "complicated-hanging",
   "metadata": {},
   "outputs": [],
   "source": [
    "#map the offer_id from df with id in portfolio\n",
    "\n",
    "#create dict such that offers['offer_id']= offerName_difficulty_duration\n",
    "offers=dict()\n",
    "for offer, i, diff, dur in portfolio[['offer_type', 'id', 'difficulty', 'duration']].values:\n",
    "    offers[i]= f'{offer}_{diff}_{dur}'\n",
    "\n",
    "\n",
    "def value_col(col):\n",
    "    \"\"\"\n",
    "    extract offer_id from value column and mapped it to the offer name\n",
    "    \n",
    "    input- value column\n",
    "    \n",
    "    output-  mapped offer names\n",
    "    \"\"\"\n",
    "    value_type= col.split(':')[0].replace(\"'\", \"\").replace('{', \"\")\n",
    "    \n",
    "    if value_type == 'offer id':\n",
    "        value= col.split(':')[1].replace(\"'\", \"\").replace('}', \"\").strip()\n",
    "        return offers[value]\n",
    "    elif value_type == 'offer_id':\n",
    "        value= col.split(':')[1].split(',')[0].replace(\"'\", \"\").strip()\n",
    "        return offers[value]\n",
    "    else:\n",
    "        return 'None'"
   ]
  },
  {
   "cell_type": "code",
   "execution_count": 22,
   "id": "considered-valley",
   "metadata": {},
   "outputs": [],
   "source": [
    "#get offer names\n",
    "df['offer']= df['value'].apply(value_col)"
   ]
  },
  {
   "cell_type": "code",
   "execution_count": 23,
   "id": "banned-trouble",
   "metadata": {},
   "outputs": [],
   "source": [
    "def value_col_id(col):\n",
    "    \"\"\"\n",
    "    extract offer_id from value column\n",
    "    \n",
    "    input- value column\n",
    "    \n",
    "    output- offer_ids\n",
    "    \"\"\"\n",
    "    value_type= col.split(':')[0].replace(\"'\", \"\").replace('{', \"\")\n",
    "    \n",
    "    if value_type == 'offer id':\n",
    "        value= col.split(':')[1].replace(\"'\", \"\").replace('}', \"\").strip()\n",
    "        return value\n",
    "    elif value_type == 'offer_id':\n",
    "        value= col.split(':')[1].split(',')[0].replace(\"'\", \"\").strip()\n",
    "        return value\n",
    "    else:\n",
    "        return 'None'"
   ]
  },
  {
   "cell_type": "code",
   "execution_count": 24,
   "id": "crucial-morrison",
   "metadata": {},
   "outputs": [],
   "source": [
    "#get offer ids\n",
    "df['offer_id']= df['value'].apply(value_col_id)"
   ]
  },
  {
   "cell_type": "code",
   "execution_count": 25,
   "id": "governmental-sheet",
   "metadata": {},
   "outputs": [],
   "source": [
    "def value_col_trans(col):\n",
    "    \"\"\"\n",
    "    get transaction amount from value column\n",
    "    \n",
    "    input- value column\n",
    "    \n",
    "    output- transaction amount\n",
    "    \"\"\"\n",
    "    value_type= col.split(':')[0].replace(\"'\", \"\").replace('{', \"\")\n",
    "    \n",
    "    if value_type == 'amount':\n",
    "        value= col.split(':')[1].replace(\"'\", \"\").replace('}', \"\").strip()\n",
    "        return np.round(float(value), 2)\n",
    "    else:\n",
    "        return np.nan"
   ]
  },
  {
   "cell_type": "code",
   "execution_count": 26,
   "id": "clear-reynolds",
   "metadata": {},
   "outputs": [],
   "source": [
    "#get transaction amount\n",
    "df['amount']= df['value'].apply(value_col_trans)"
   ]
  },
  {
   "cell_type": "code",
   "execution_count": 27,
   "id": "geological-antique",
   "metadata": {},
   "outputs": [
    {
     "data": {
      "text/plain": [
       "Text(0.5, 1.0, 'total transactions per year')"
      ]
     },
     "execution_count": 27,
     "metadata": {},
     "output_type": "execute_result"
    },
    {
     "data": {
      "image/png": "[encoded data removed]",
      "text/plain": [
       "<Figure size 432x288 with 1 Axes>"
      ]
     },
     "metadata": {
      "needs_background": "light"
     },
     "output_type": "display_data"
    }
   ],
   "source": [
    "df.groupby('year').sum().amount.plot()\n",
    "plt.ylabel(\"amount\")\n",
    "plt.title('total transactions per year')"
   ]
  },
  {
   "cell_type": "markdown",
   "id": "industrial-confusion",
   "metadata": {},
   "source": [
    "both total transactions and # of regestration follow the same trend, climping up till 2017 then dropping."
   ]
  },
  {
   "cell_type": "code",
   "execution_count": 28,
   "id": "commercial-watts",
   "metadata": {},
   "outputs": [
    {
     "data": {
      "text/plain": [
       "Text(0.5, 1.0, 'total amount spent per gender')"
      ]
     },
     "execution_count": 28,
     "metadata": {},
     "output_type": "execute_result"
    },
    {
     "data": {
      "image/png": "[encoded data removed]",
      "text/plain": [
       "<Figure size 432x288 with 1 Axes>"
      ]
     },
     "metadata": {
      "needs_background": "light"
     },
     "output_type": "display_data"
    }
   ],
   "source": [
    "sns.barplot(x= ['F','M','O'], y=df.groupby('gender').sum().amount.values)\n",
    "plt.xlabel('gender')\n",
    "plt.ylabel('total')\n",
    "plt.title('total amount spent per gender')"
   ]
  },
  {
   "cell_type": "code",
   "execution_count": 29,
   "id": "specialized-nickname",
   "metadata": {},
   "outputs": [
    {
     "data": {
      "text/plain": [
       "Text(0.5, 1.0, 'Total transactions per year per gender')"
      ]
     },
     "execution_count": 29,
     "metadata": {},
     "output_type": "execute_result"
    },
    {
     "data": {
      "image/png": "[encoded data removed]",
      "text/plain": [
       "<Figure size 432x288 with 1 Axes>"
      ]
     },
     "metadata": {
      "needs_background": "light"
     },
     "output_type": "display_data"
    }
   ],
   "source": [
    "sns.lineplot(x=df.groupby(['gender','year']).sum().amount.loc['O'].index, y=df.groupby(['gender','year']).sum().amount.loc['O'].values , label='Other')\n",
    "sns.lineplot(x=df.groupby(['gender','year']).sum().amount.loc['M'].index, y=df.groupby(['gender','year']).sum().amount.loc['M'].values , label='Male')\n",
    "sns.lineplot(x=df.groupby(['gender','year']).sum().amount.loc['F'].index, y=df.groupby(['gender','year']).sum().amount.loc['F'].values , label='Female')\n",
    "plt.ylabel('total transactions')\n",
    "plt.title('Total transactions per year per gender')"
   ]
  },
  {
   "cell_type": "markdown",
   "id": "homeless-wells",
   "metadata": {},
   "source": [
    "around 2015 females started spending more at starbucks than males, then a sharp drop for 2018."
   ]
  },
  {
   "cell_type": "code",
   "execution_count": 30,
   "id": "perfect-lawrence",
   "metadata": {},
   "outputs": [],
   "source": [
    "# get dummies for event column\n",
    "df=pd.concat([df, pd.get_dummies(df['event'])], axis=1)"
   ]
  },
  {
   "cell_type": "code",
   "execution_count": 31,
   "id": "julian-variable",
   "metadata": {},
   "outputs": [],
   "source": [
    "def infor(offer, viewed, complete):\n",
    "    \"\"\"\n",
    "    if a informational offer is viewd then counted as completed\n",
    "    \n",
    "    input:\n",
    "    offer column\n",
    "    offer viewed column\n",
    "    offer completed column\n",
    "    \n",
    "    output:\n",
    "    0- not completed\n",
    "    1- completed\n",
    "    \"\"\"\n",
    "    if offer == 'informational_0_3' or offer == 'informational_0_4':\n",
    "        if viewed == 1:\n",
    "            return 1\n",
    "    \n",
    "    return complete"
   ]
  },
  {
   "cell_type": "code",
   "execution_count": 32,
   "id": "available-ranch",
   "metadata": {},
   "outputs": [],
   "source": [
    "df['offer completed']=df.apply( lambda x : infor( x['offer'], x['offer viewed'], x['offer completed'] ) , axis=1)"
   ]
  },
  {
   "cell_type": "code",
   "execution_count": 33,
   "id": "numeric-islam",
   "metadata": {},
   "outputs": [],
   "source": [
    "#store tatal spending per person\n",
    "total_amount=df.groupby('id').sum().amount"
   ]
  },
  {
   "cell_type": "code",
   "execution_count": 34,
   "id": "clinical-moses",
   "metadata": {},
   "outputs": [],
   "source": [
    "temp= df.sort_values('event')#sort values\n",
    "new_df= temp[temp['offer completed']== 1]# extract completed offers to new_df\n",
    "temp= temp[temp['offer completed'] != 1]# delete completed offers from temp\n",
    "temp= temp[temp.event != 'transaction']# delete transactions from temp\n",
    "temp.drop_duplicates(subset=['id', 'offer_id'], inplace=True)# drop duplicated rows\n",
    "new_df= pd.concat([new_df, temp], ignore_index=True) # concat temp and new_df\n",
    "new_df= pd.concat([new_df, pd.get_dummies(new_df['offer'], drop_first=True)], axis=1) #concat new_df and dummyies for offer"
   ]
  },
  {
   "cell_type": "code",
   "execution_count": 35,
   "id": "instructional-extra",
   "metadata": {},
   "outputs": [],
   "source": [
    "#map total transaction amount with person id\n",
    "new_df['total_transaction']= new_df['id'].apply(lambda x : total_amount.loc[x])"
   ]
  },
  {
   "cell_type": "code",
   "execution_count": 36,
   "id": "responsible-enlargement",
   "metadata": {},
   "outputs": [],
   "source": [
    "#drop uneeded columns\n",
    "new_df.drop(['became_member_on', 'event', 'time', 'amount', 'offer_id', 'id', 'value', 'offer received', 'offer viewed', 'transaction', 'offer'], axis=1, inplace=True)"
   ]
  },
  {
   "cell_type": "code",
   "execution_count": 37,
   "id": "modern-villa",
   "metadata": {},
   "outputs": [],
   "source": [
    "# make dummiys for gender and year and concat with new_df\n",
    "new_df = pd.concat([new_df, pd.get_dummies(new_df['gender']), pd.get_dummies(new_df['year'], drop_first=True)], axis=1)"
   ]
  },
  {
   "cell_type": "code",
   "execution_count": 38,
   "id": "stretch-power",
   "metadata": {},
   "outputs": [],
   "source": [
    "#drop year and gender\n",
    "new_df.drop(['gender', 'year', 'O'], axis=1, inplace=True)"
   ]
  },
  {
   "cell_type": "code",
   "execution_count": 39,
   "id": "technical-execution",
   "metadata": {},
   "outputs": [],
   "source": [
    "#rename target column to completed\n",
    "new_df.rename(columns= {'offer completed': 'completed'}, inplace=True)"
   ]
  },
  {
   "cell_type": "code",
   "execution_count": 40,
   "id": "three-exclusion",
   "metadata": {},
   "outputs": [
    {
     "data": {
      "text/plain": [
       "0    63288\n",
       "1    44410\n",
       "Name: completed, dtype: int64"
      ]
     },
     "execution_count": 40,
     "metadata": {},
     "output_type": "execute_result"
    }
   ],
   "source": [
    "#get classes dist\n",
    "new_df['completed'].value_counts()"
   ]
  },
  {
   "cell_type": "markdown",
   "id": "heard-forth",
   "metadata": {},
   "source": [
    "## ML Modeling"
   ]
  },
  {
   "cell_type": "code",
   "execution_count": 41,
   "id": "resistant-remove",
   "metadata": {},
   "outputs": [],
   "source": [
    "from sklearn.model_selection import train_test_split, GridSearchCV\n",
    "from sklearn.pipeline import Pipeline\n",
    "from sklearn.neighbors import KNeighborsClassifier\n",
    "from sklearn.preprocessing import MinMaxScaler"
   ]
  },
  {
   "cell_type": "code",
   "execution_count": 42,
   "id": "involved-chest",
   "metadata": {},
   "outputs": [],
   "source": [
    "#create train test data\n",
    "x=new_df.drop('completed', axis=1)\n",
    "y= new_df['completed']\n",
    "\n",
    "x_train, x_test, y_train, y_test = train_test_split(x, y, test_size=0.3, random_state=42)"
   ]
  },
  {
   "cell_type": "code",
   "execution_count": 43,
   "id": "sensitive-actress",
   "metadata": {},
   "outputs": [],
   "source": [
    "#normalaize data then use knn\n",
    "pipeline= Pipeline([\n",
    "    ('scaler', MinMaxScaler()),\n",
    "    ('cls',  KNeighborsClassifier())\n",
    "])\n"
   ]
  },
  {
   "cell_type": "code",
   "execution_count": 44,
   "id": "joint-fiber",
   "metadata": {},
   "outputs": [],
   "source": [
    "#adjust how many nighbors affect the selection\n",
    "params={'cls__n_neighbors': [1, 5, 10, 15, 20, 25]}\n",
    "\n",
    "cv= GridSearchCV(pipeline, params, verbose=3)"
   ]
  },
  {
   "cell_type": "code",
   "execution_count": 45,
   "id": "closed-premises",
   "metadata": {},
   "outputs": [
    {
     "name": "stdout",
     "output_type": "stream",
     "text": [
      "Fitting 5 folds for each of 6 candidates, totalling 30 fits\n",
      "[CV 1/5] END .............................cls__n_neighbors=1; total time=  20.3s\n",
      "[CV 2/5] END .............................cls__n_neighbors=1; total time=  19.7s\n",
      "[CV 3/5] END .............................cls__n_neighbors=1; total time=  19.2s\n",
      "[CV 4/5] END .............................cls__n_neighbors=1; total time=  19.7s\n",
      "[CV 5/5] END .............................cls__n_neighbors=1; total time=  19.3s\n",
      "[CV 1/5] END .............................cls__n_neighbors=5; total time=  33.5s\n",
      "[CV 2/5] END .............................cls__n_neighbors=5; total time=  33.4s\n",
      "[CV 3/5] END .............................cls__n_neighbors=5; total time=  32.9s\n",
      "[CV 4/5] END .............................cls__n_neighbors=5; total time=  33.3s\n",
      "[CV 5/5] END .............................cls__n_neighbors=5; total time=  33.1s\n",
      "[CV 1/5] END ............................cls__n_neighbors=10; total time=  33.7s\n",
      "[CV 2/5] END ............................cls__n_neighbors=10; total time=  32.2s\n",
      "[CV 3/5] END ............................cls__n_neighbors=10; total time=  31.6s\n",
      "[CV 4/5] END ............................cls__n_neighbors=10; total time=  31.5s\n",
      "[CV 5/5] END ............................cls__n_neighbors=10; total time=  30.6s\n",
      "[CV 1/5] END ............................cls__n_neighbors=15; total time=  31.6s\n",
      "[CV 2/5] END ............................cls__n_neighbors=15; total time=  31.7s\n",
      "[CV 3/5] END ............................cls__n_neighbors=15; total time=  33.5s\n",
      "[CV 4/5] END ............................cls__n_neighbors=15; total time=  33.1s\n",
      "[CV 5/5] END ............................cls__n_neighbors=15; total time=  32.2s\n",
      "[CV 1/5] END ............................cls__n_neighbors=20; total time=  33.2s\n",
      "[CV 2/5] END ............................cls__n_neighbors=20; total time=  33.2s\n",
      "[CV 3/5] END ............................cls__n_neighbors=20; total time=  33.2s\n",
      "[CV 4/5] END ............................cls__n_neighbors=20; total time=  33.6s\n",
      "[CV 5/5] END ............................cls__n_neighbors=20; total time=  31.9s\n",
      "[CV 1/5] END ............................cls__n_neighbors=25; total time=  33.4s\n",
      "[CV 2/5] END ............................cls__n_neighbors=25; total time=  32.7s\n",
      "[CV 3/5] END ............................cls__n_neighbors=25; total time=  33.1s\n",
      "[CV 4/5] END ............................cls__n_neighbors=25; total time=  32.9s\n",
      "[CV 5/5] END ............................cls__n_neighbors=25; total time=  32.1s\n"
     ]
    },
    {
     "data": {
      "text/plain": [
       "GridSearchCV(estimator=Pipeline(steps=[('scaler', MinMaxScaler()),\n",
       "                                       ('cls', KNeighborsClassifier())]),\n",
       "             param_grid={'cls__n_neighbors': [1, 5, 10, 15, 20, 25]},\n",
       "             verbose=3)"
      ]
     },
     "execution_count": 45,
     "metadata": {},
     "output_type": "execute_result"
    }
   ],
   "source": [
    "cv.fit(x_train, y_train)#train"
   ]
  },
  {
   "cell_type": "code",
   "execution_count": 46,
   "id": "pregnant-earthquake",
   "metadata": {},
   "outputs": [],
   "source": [
    "pred = cv.predict(x_test)#predict"
   ]
  },
  {
   "cell_type": "code",
   "execution_count": 47,
   "id": "convertible-drama",
   "metadata": {},
   "outputs": [
    {
     "name": "stdout",
     "output_type": "stream",
     "text": [
      "classification report:\n",
      "              precision    recall  f1-score   support\n",
      "\n",
      "           0       0.60      0.70      0.65     18946\n",
      "           1       0.44      0.34      0.38     13364\n",
      "\n",
      "    accuracy                           0.55     32310\n",
      "   macro avg       0.52      0.52      0.52     32310\n",
      "weighted avg       0.54      0.55      0.54     32310\n",
      "\n",
      "-------------------------------------\n",
      "confusion matrix:\n",
      "[[13321  5625]\n",
      " [ 8864  4500]]\n"
     ]
    }
   ],
   "source": [
    "#evaluate\n",
    "from sklearn.metrics import classification_report, confusion_matrix\n",
    "print(\"classification report:\")\n",
    "print(classification_report(y_test, pred))\n",
    "print(\"-------------------------------------\")\n",
    "print('confusion matrix:')\n",
    "print(confusion_matrix(y_test, pred))"
   ]
  },
  {
   "cell_type": "markdown",
   "id": "located-success",
   "metadata": {},
   "source": [
    "## Enhance Performance "
   ]
  },
  {
   "cell_type": "markdown",
   "id": "forward-contest",
   "metadata": {},
   "source": [
    "Since data is unbalanced lets try undersampling and see if there is an improvment."
   ]
  },
  {
   "cell_type": "code",
   "execution_count": 48,
   "id": "civic-solid",
   "metadata": {},
   "outputs": [
    {
     "data": {
      "text/plain": [
       "0    63288\n",
       "1    44410\n",
       "Name: completed, dtype: int64"
      ]
     },
     "execution_count": 48,
     "metadata": {},
     "output_type": "execute_result"
    }
   ],
   "source": [
    "new_df.completed.value_counts()#data unbalanced"
   ]
  },
  {
   "cell_type": "code",
   "execution_count": 45,
   "id": "czech-franklin",
   "metadata": {},
   "outputs": [
    {
     "data": {
      "text/plain": [
       "0    44410\n",
       "1    44410\n",
       "Name: completed, dtype: int64"
      ]
     },
     "execution_count": 45,
     "metadata": {},
     "output_type": "execute_result"
    }
   ],
   "source": [
    "#use downsampling\n",
    "from sklearn.utils import resample\n",
    "df_majority = new_df[new_df.completed==0]\n",
    "df_minority = new_df[new_df.completed==1]\n",
    " \n",
    "# Downsample majority class\n",
    "df_majority_downsampled = resample(df_majority, \n",
    "                                 replace=False,    # sample without replacement\n",
    "                                 n_samples=len(df_minority),     # to match minority class\n",
    "                                 random_state=123) # reproducible results\n",
    " \n",
    "# Combine minority class with downsampled majority class\n",
    "df_downsampled = pd.concat([df_majority_downsampled, df_minority])\n",
    " \n",
    "# Display new class counts\n",
    "df_downsampled.completed.value_counts()"
   ]
  },
  {
   "cell_type": "code",
   "execution_count": 46,
   "id": "answering-egyptian",
   "metadata": {},
   "outputs": [],
   "source": [
    "#crete train test data using balansed data\n",
    "x=df_downsampled.drop('completed', axis=1)\n",
    "y= df_downsampled['completed']\n",
    "\n",
    "x_train, x_test, y_train, y_test = train_test_split(x, y, test_size=0.3, random_state=42)"
   ]
  },
  {
   "cell_type": "code",
   "execution_count": 47,
   "id": "comparative-roulette",
   "metadata": {},
   "outputs": [
    {
     "name": "stdout",
     "output_type": "stream",
     "text": [
      "Fitting 5 folds for each of 6 candidates, totalling 30 fits\n",
      "[CV 1/5] END .............................cls__n_neighbors=1; total time=  13.3s\n",
      "[CV 2/5] END .............................cls__n_neighbors=1; total time=  13.3s\n",
      "[CV 3/5] END .............................cls__n_neighbors=1; total time=  13.3s\n",
      "[CV 4/5] END .............................cls__n_neighbors=1; total time=  13.5s\n",
      "[CV 5/5] END .............................cls__n_neighbors=1; total time=  14.7s\n",
      "[CV 1/5] END .............................cls__n_neighbors=5; total time=  22.9s\n",
      "[CV 2/5] END .............................cls__n_neighbors=5; total time=  22.3s\n",
      "[CV 3/5] END .............................cls__n_neighbors=5; total time=  24.0s\n",
      "[CV 4/5] END .............................cls__n_neighbors=5; total time=  22.1s\n",
      "[CV 5/5] END .............................cls__n_neighbors=5; total time=  21.7s\n",
      "[CV 1/5] END ............................cls__n_neighbors=10; total time=  22.7s\n",
      "[CV 2/5] END ............................cls__n_neighbors=10; total time=  21.9s\n",
      "[CV 3/5] END ............................cls__n_neighbors=10; total time=  23.5s\n",
      "[CV 4/5] END ............................cls__n_neighbors=10; total time=  22.0s\n",
      "[CV 5/5] END ............................cls__n_neighbors=10; total time=  21.7s\n",
      "[CV 1/5] END ............................cls__n_neighbors=15; total time=  22.3s\n",
      "[CV 2/5] END ............................cls__n_neighbors=15; total time=  22.0s\n",
      "[CV 3/5] END ............................cls__n_neighbors=15; total time=  24.9s\n",
      "[CV 4/5] END ............................cls__n_neighbors=15; total time=  21.5s\n",
      "[CV 5/5] END ............................cls__n_neighbors=15; total time=  21.0s\n",
      "[CV 1/5] END ............................cls__n_neighbors=20; total time=  22.0s\n",
      "[CV 2/5] END ............................cls__n_neighbors=20; total time=  22.2s\n",
      "[CV 3/5] END ............................cls__n_neighbors=20; total time=  23.7s\n",
      "[CV 4/5] END ............................cls__n_neighbors=20; total time=  22.3s\n",
      "[CV 5/5] END ............................cls__n_neighbors=20; total time=  22.2s\n",
      "[CV 1/5] END ............................cls__n_neighbors=25; total time=  22.5s\n",
      "[CV 2/5] END ............................cls__n_neighbors=25; total time=  22.3s\n",
      "[CV 3/5] END ............................cls__n_neighbors=25; total time=  23.5s\n",
      "[CV 4/5] END ............................cls__n_neighbors=25; total time=  22.2s\n",
      "[CV 5/5] END ............................cls__n_neighbors=25; total time=  22.0s\n"
     ]
    },
    {
     "data": {
      "text/plain": [
       "GridSearchCV(estimator=Pipeline(steps=[('scaler', MinMaxScaler()),\n",
       "                                       ('cls', KNeighborsClassifier())]),\n",
       "             param_grid={'cls__n_neighbors': [1, 5, 10, 15, 20, 25]},\n",
       "             verbose=3)"
      ]
     },
     "execution_count": 47,
     "metadata": {},
     "output_type": "execute_result"
    }
   ],
   "source": [
    "cv.fit(x_train, y_train)#train"
   ]
  },
  {
   "cell_type": "code",
   "execution_count": 52,
   "id": "collective-script",
   "metadata": {},
   "outputs": [],
   "source": [
    "pred = cv.predict(x_test)"
   ]
  },
  {
   "cell_type": "code",
   "execution_count": 53,
   "id": "requested-seating",
   "metadata": {},
   "outputs": [
    {
     "name": "stdout",
     "output_type": "stream",
     "text": [
      "classification report:\n",
      "              precision    recall  f1-score   support\n",
      "\n",
      "           0       0.60      0.47      0.53     13355\n",
      "           1       0.56      0.68      0.62     13291\n",
      "\n",
      "    accuracy                           0.58     26646\n",
      "   macro avg       0.58      0.58      0.57     26646\n",
      "weighted avg       0.58      0.58      0.57     26646\n",
      "\n",
      "-------------------------------------\n",
      "confusion matrix:\n",
      "[[6271 7084]\n",
      " [4228 9063]]\n"
     ]
    }
   ],
   "source": [
    "print(\"classification report:\")\n",
    "print(classification_report(y_test, pred))\n",
    "print(\"-------------------------------------\")\n",
    "print('confusion matrix:')\n",
    "print(confusion_matrix(y_test, pred))"
   ]
  },
  {
   "cell_type": "markdown",
   "id": "sized-sponsorship",
   "metadata": {},
   "source": [
    "## Results\n",
    "there is a huge boost in the f1-score for the 1 class, from 38% to 62% and a 3% increase in accuracy by just balancing the data. further feature engineering or choosing other classifairs could improve the performance."
   ]
  },
  {
   "cell_type": "markdown",
   "id": "automatic-trade",
   "metadata": {},
   "source": [
    "## Conclusion\n",
    "we reached the goal of predicting if a customer will responce to an offer or not, the solution leaves a lot to be desired but it does the job. i would loved to explore how users spending behavior changes after reading an offer, it is quite diffuclite to do at my current level.  \n",
    "Also deep learning or better feature engineering could be used to achive better results.  \n",
    "\n",
    "Thank you."
   ]
  },
  {
   "cell_type": "markdown",
   "id": "complimentary-antibody",
   "metadata": {},
   "source": [
    "## save the model & data"
   ]
  },
  {
   "cell_type": "code",
   "execution_count": 48,
   "id": "seven-energy",
   "metadata": {},
   "outputs": [],
   "source": [
    "import pickle\n",
    "f= open('model.pkl', 'wb')\n",
    "pickle.dump(cv, f)\n",
    "f.close()\n",
    "\n",
    "new_df.to_csv('df.csv')\n",
    "df_downsampled.to_csv('downsampled.csv')"
   ]
  }
 ],
 "metadata": {
  "kernelspec": {
   "display_name": "Python 3",
   "language": "python",
   "name": "python3"
  },
  "language_info": {
   "codemirror_mode": {
    "name": "ipython",
    "version": 3
   },
   "file_extension": ".py",
   "mimetype": "text/x-python",
   "name": "python",
   "nbconvert_exporter": "python",
   "pygments_lexer": "ipython3",
   "version": "3.7.3"
  }
 },
 "nbformat": 4,
 "nbformat_minor": 5
}
